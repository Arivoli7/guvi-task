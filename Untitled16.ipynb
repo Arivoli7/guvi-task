{
  "nbformat": 4,
  "nbformat_minor": 0,
  "metadata": {
    "colab": {
      "provenance": [],
      "authorship_tag": "ABX9TyPKwx9Nwx0KYFIhByOfid5O",
      "include_colab_link": true
    },
    "kernelspec": {
      "name": "python3",
      "display_name": "Python 3"
    },
    "language_info": {
      "name": "python"
    }
  },
  "cells": [
    {
      "cell_type": "markdown",
      "metadata": {
        "id": "view-in-github",
        "colab_type": "text"
      },
      "source": [
        "<a href=\"https://colab.research.google.com/github/Arivoli7/guvi-task/blob/main/Untitled16.ipynb\" target=\"_parent\"><img src=\"https://colab.research.google.com/assets/colab-badge.svg\" alt=\"Open In Colab\"/></a>"
      ]
    },
    {
      "cell_type": "code",
      "source": [
        "import re\n",
        "\n",
        "\n",
        "def validate_email(email):\n",
        "    if re.search(r'@.+\\.', email):\n",
        "        if not re.search(r'@\\.', email):\n",
        "            if not re.search(r'^[^A-Za-z0-9]', email):\n",
        "                return True\n",
        "    return False\n",
        "validate_email('arivoli@gmail.com')\n",
        "\n",
        "def validate_password(password):\n",
        "    if len(password) >= 5 and len(password) <= 16:\n",
        "       if re.search(r'[^A-Za-z0-9]', password) and re.search(r'[0-9]', password) and re.search(r'[A-Z]', password) and re.search(r'[a-z]', password):\n",
        "            return True\n",
        "    return False\n",
        "validate_password('arivu@09')\n",
        "\n",
        "def register_user(email, password):\n",
        "    if validate_email(email):\n",
        "        if validate_password(password):\n",
        "            with open('usersdetails2.txt', 'x'):\n",
        "                f=open('userdetails2.txt','a')\n",
        "                f.write(email + ',' + password + '\\n')\n",
        "                print('Registration successful!')\n",
        "        else:\n",
        "            print('Invalid password!')\n",
        "    else:\n",
        "        print('Invalid email!')\n",
        "\n",
        "register_user('arivoli@gmail.com','arivu@09')\n",
        "\n",
        "def login():\n",
        "    email = input(\"Enter your email: \")\n",
        "    password = input(\"Enter your password: \")\n",
        "    with open('userdetails2.txt', \"r\") as f:\n",
        "        for line in f:\n",
        "            line = line.strip()\n",
        "            stored_email, stored_password = line.split(\",\")\n",
        "            if email == stored_email and password == stored_password:\n",
        "                print(\"Login successful.\")\n",
        "                return\n",
        "    print(\"Login failed. Invalid username or password.\")\n",
        "login()\n",
        "\n",
        "def retrieve_password(email):\n",
        "    with open('userdetails2.txt', 'r') as f:\n",
        "        for line in f:\n",
        "            line = line.strip()\n",
        "            stored_email, stored_password = line.split(\",\")\n",
        "            if email == stored_email:\n",
        "                return stored_password\n",
        "    return None\n",
        "retrieve_password('arivoli@gmail.com')\n"
      ],
      "metadata": {
        "id": "mdwqUybZynre"
      },
      "execution_count": null,
      "outputs": []
    },
    {
      "cell_type": "code",
      "source": [],
      "metadata": {
        "id": "wRQ6CtBizzhm"
      },
      "execution_count": null,
      "outputs": []
    }
  ]
}